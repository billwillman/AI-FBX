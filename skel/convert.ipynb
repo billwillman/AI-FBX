{
 "cells": [
  {
   "cell_type": "code",
   "execution_count": 27,
   "id": "e7122a31-449f-4ea6-95aa-2772b60e388b",
   "metadata": {
    "ExecutionIndicator": {
     "show": true
    },
    "execution": {
     "iopub.execute_input": "2024-09-26T15:24:55.049370Z",
     "iopub.status.busy": "2024-09-26T15:24:55.048833Z",
     "iopub.status.idle": "2024-09-26T15:24:55.072627Z",
     "shell.execute_reply": "2024-09-26T15:24:55.072082Z",
     "shell.execute_reply.started": "2024-09-26T15:24:55.049349Z"
    },
    "tags": []
   },
   "outputs": [],
   "source": [
    "import numpy as np\n",
    "a = np.load('test02.npy', allow_pickle=True).item()"
   ]
  },
  {
   "cell_type": "code",
   "execution_count": 28,
   "id": "95daab2a-6e04-4abd-a4d9-445a804166a4",
   "metadata": {
    "ExecutionIndicator": {
     "show": true
    },
    "execution": {
     "iopub.execute_input": "2024-09-26T15:24:56.866451Z",
     "iopub.status.busy": "2024-09-26T15:24:56.865918Z",
     "iopub.status.idle": "2024-09-26T15:24:56.869391Z",
     "shell.execute_reply": "2024-09-26T15:24:56.868807Z",
     "shell.execute_reply.started": "2024-09-26T15:24:56.866429Z"
    },
    "tags": []
   },
   "outputs": [],
   "source": [
    "joints = a['joints']\n",
    "connectivity = a['parents']\n",
    "skinning = a['blend_weight']"
   ]
  },
  {
   "cell_type": "code",
   "execution_count": 22,
   "id": "557bf05e-75a2-4c45-916a-218646823ed3",
   "metadata": {
    "ExecutionIndicator": {
     "show": false
    },
    "execution": {
     "iopub.execute_input": "2024-09-26T15:24:21.988791Z",
     "iopub.status.busy": "2024-09-26T15:24:21.988071Z",
     "iopub.status.idle": "2024-09-26T15:24:21.995011Z",
     "shell.execute_reply": "2024-09-26T15:24:21.994481Z",
     "shell.execute_reply.started": "2024-09-26T15:24:21.988741Z"
    },
    "tags": []
   },
   "outputs": [],
   "source": [
    "JOINT_NAMES = [\n",
    "    \"pelvis\",\n",
    "    \"left_hip\",\n",
    "    \"right_hip\",\n",
    "    \"spine1\",\n",
    "    \"left_knee\",\n",
    "    \"right_knee\",\n",
    "    \"spine2\",\n",
    "    \"left_ankle\",\n",
    "    \"right_ankle\",\n",
    "    \"spine3\",\n",
    "    \"left_foot\",\n",
    "    \"right_foot\",\n",
    "    \"neck\",\n",
    "    \"left_collar\",\n",
    "    \"right_collar\",\n",
    "    \"head\",\n",
    "    \"left_shoulder\",\n",
    "    \"right_shoulder\",\n",
    "    \"left_elbow\",\n",
    "    \"right_elbow\",\n",
    "    \"left_wrist\",\n",
    "    \"right_wrist\",\n",
    "    \"jaw\",\n",
    "    \"left_eye_smplhf\",\n",
    "    \"right_eye_smplhf\",\n",
    "    \"left_index1\",\n",
    "    \"left_index2\",\n",
    "    \"left_index3\",\n",
    "    \"left_middle1\",\n",
    "    \"left_middle2\",\n",
    "    \"left_middle3\",\n",
    "    \"left_pinky1\",\n",
    "    \"left_pinky2\",\n",
    "    \"left_pinky3\",\n",
    "    \"left_ring1\",\n",
    "    \"left_ring2\",\n",
    "    \"left_ring3\",\n",
    "    \"left_thumb1\",\n",
    "    \"left_thumb2\",\n",
    "    \"left_thumb3\",\n",
    "    \"right_index1\",\n",
    "    \"right_index2\",\n",
    "    \"right_index3\",\n",
    "    \"right_middle1\",\n",
    "    \"right_middle2\",\n",
    "    \"right_middle3\",\n",
    "    \"right_pinky1\",\n",
    "    \"right_pinky2\",\n",
    "    \"right_pinky3\",\n",
    "    \"right_ring1\",\n",
    "    \"right_ring2\",\n",
    "    \"right_ring3\",\n",
    "    \"right_thumb1\",\n",
    "    \"right_thumb2\",\n",
    "    \"right_thumb3\",\n",
    "    \"nose\",\n",
    "    \"right_eye\",\n",
    "    \"left_eye\",\n",
    "    \"right_ear\",\n",
    "    \"left_ear\",\n",
    "    \"left_big_toe\",\n",
    "    \"left_small_toe\",\n",
    "    \"left_heel\",\n",
    "    \"right_big_toe\",\n",
    "    \"right_small_toe\",\n",
    "    \"right_heel\",\n",
    "    \"left_thumb\",\n",
    "    \"left_index\",\n",
    "    \"left_middle\",\n",
    "    \"left_ring\",\n",
    "    \"left_pinky\",\n",
    "    \"right_thumb\",\n",
    "    \"right_index\",\n",
    "    \"right_middle\",\n",
    "    \"right_ring\",\n",
    "    \"right_pinky\",\n",
    "    \"right_eye_brow1\",\n",
    "    \"right_eye_brow2\",\n",
    "    \"right_eye_brow3\",\n",
    "    \"right_eye_brow4\",\n",
    "    \"right_eye_brow5\",\n",
    "    \"left_eye_brow5\",\n",
    "    \"left_eye_brow4\",\n",
    "    \"left_eye_brow3\",\n",
    "    \"left_eye_brow2\",\n",
    "    \"left_eye_brow1\",\n",
    "    \"nose1\",\n",
    "    \"nose2\",\n",
    "    \"nose3\",\n",
    "    \"nose4\",\n",
    "    \"right_nose_2\",\n",
    "    \"right_nose_1\",\n",
    "    \"nose_middle\",\n",
    "    \"left_nose_1\",\n",
    "    \"left_nose_2\",\n",
    "    \"right_eye1\",\n",
    "    \"right_eye2\",\n",
    "    \"right_eye3\",\n",
    "    \"right_eye4\",\n",
    "    \"right_eye5\",\n",
    "    \"right_eye6\",\n",
    "    \"left_eye4\",\n",
    "    \"left_eye3\",\n",
    "    \"left_eye2\",\n",
    "    \"left_eye1\",\n",
    "    \"left_eye6\",\n",
    "    \"left_eye5\",\n",
    "    \"right_mouth_1\",\n",
    "    \"right_mouth_2\",\n",
    "    \"right_mouth_3\",\n",
    "    \"mouth_top\",\n",
    "    \"left_mouth_3\",\n",
    "    \"left_mouth_2\",\n",
    "    \"left_mouth_1\",\n",
    "    \"left_mouth_5\",  # 59 in OpenPose output\n",
    "    \"left_mouth_4\",  # 58 in OpenPose output\n",
    "    \"mouth_bottom\",\n",
    "    \"right_mouth_4\",\n",
    "    \"right_mouth_5\",\n",
    "    \"right_lip_1\",\n",
    "    \"right_lip_2\",\n",
    "    \"lip_top\",\n",
    "    \"left_lip_2\",\n",
    "    \"left_lip_1\",\n",
    "    \"left_lip_3\",\n",
    "    \"lip_bottom\",\n",
    "    \"right_lip_3\",\n",
    "    # Face contour\n",
    "    \"right_contour_1\",\n",
    "    \"right_contour_2\",\n",
    "    \"right_contour_3\",\n",
    "    \"right_contour_4\",\n",
    "    \"right_contour_5\",\n",
    "    \"right_contour_6\",\n",
    "    \"right_contour_7\",\n",
    "    \"right_contour_8\",\n",
    "    \"contour_middle\",\n",
    "    \"left_contour_8\",\n",
    "    \"left_contour_7\",\n",
    "    \"left_contour_6\",\n",
    "    \"left_contour_5\",\n",
    "    \"left_contour_4\",\n",
    "    \"left_contour_3\",\n",
    "    \"left_contour_2\",\n",
    "    \"left_contour_1\",\n",
    "]\n",
    "\n",
    "SMPLX_JOINT_NAMES = JOINT_NAMES[:55]"
   ]
  },
  {
   "cell_type": "code",
   "execution_count": 29,
   "id": "cc613bc5-85d5-4b4f-9093-b93f5437334a",
   "metadata": {
    "ExecutionIndicator": {
     "show": true
    },
    "execution": {
     "iopub.execute_input": "2024-09-26T15:24:58.765127Z",
     "iopub.status.busy": "2024-09-26T15:24:58.764566Z",
     "iopub.status.idle": "2024-09-26T15:24:58.932639Z",
     "shell.execute_reply": "2024-09-26T15:24:58.932115Z",
     "shell.execute_reply.started": "2024-09-26T15:24:58.765103Z"
    },
    "tags": []
   },
   "outputs": [],
   "source": [
    "new_column = np.arange(connectivity.shape[0])\n",
    "\n",
    "# 将新列与原始列拼接，形成一个 (n, 2) 的数组\n",
    "combined_array = convert_connectivity(connectivity, 0)\n",
    "\n",
    "# 将结果保存为 txt 文件\n",
    "np.savetxt('/mnt/workspace/project/LGM_siga/Real2Character/pcd_diff/gecco/gecco-torch/example_configs/results/juntingdong/test02_connectivity.txt', combined_array, fmt='%s', delimiter='\\t')\n"
   ]
  },
  {
   "cell_type": "code",
   "execution_count": 30,
   "id": "f75d33ce-3a5c-4c46-82cf-754c326c00dc",
   "metadata": {
    "execution": {
     "iopub.execute_input": "2024-09-26T15:25:02.276008Z",
     "iopub.status.busy": "2024-09-26T15:25:02.275484Z",
     "iopub.status.idle": "2024-09-26T15:25:02.283060Z",
     "shell.execute_reply": "2024-09-26T15:25:02.282610Z",
     "shell.execute_reply.started": "2024-09-26T15:25:02.275986Z"
    },
    "tags": []
   },
   "outputs": [],
   "source": [
    "skinning = skinning.transpose(0, 1).detach().cpu().numpy()"
   ]
  },
  {
   "cell_type": "code",
   "execution_count": 31,
   "id": "7eff254e-b39f-477c-887e-ad2ba4fc00f4",
   "metadata": {
    "ExecutionIndicator": {
     "show": true
    },
    "execution": {
     "iopub.execute_input": "2024-09-26T15:25:04.413320Z",
     "iopub.status.busy": "2024-09-26T15:25:04.412747Z",
     "iopub.status.idle": "2024-09-26T15:25:04.619909Z",
     "shell.execute_reply": "2024-09-26T15:25:04.619376Z",
     "shell.execute_reply.started": "2024-09-26T15:25:04.413297Z"
    },
    "tags": []
   },
   "outputs": [],
   "source": [
    "np.savetxt('/mnt/workspace/project/LGM_siga/Real2Character/pcd_diff/gecco/gecco-torch/example_configs/results/juntingdong/test02_skin.txt', skinning, fmt='%f', comments='')\n",
    "np.savetxt('/mnt/workspace/project/LGM_siga/Real2Character/pcd_diff/gecco/gecco-torch/example_configs/results/juntingdong/test02_j.txt', joints, fmt='%f', comments='')"
   ]
  },
  {
   "cell_type": "code",
   "execution_count": 26,
   "id": "3436d3e4-6f36-4805-b735-26bd2bb1f594",
   "metadata": {
    "ExecutionIndicator": {
     "show": true
    },
    "execution": {
     "iopub.execute_input": "2024-09-26T15:24:44.668340Z",
     "iopub.status.busy": "2024-09-26T15:24:44.667772Z",
     "iopub.status.idle": "2024-09-26T15:24:44.672510Z",
     "shell.execute_reply": "2024-09-26T15:24:44.671940Z",
     "shell.execute_reply.started": "2024-09-26T15:24:44.668317Z"
    },
    "tags": []
   },
   "outputs": [],
   "source": [
    "def convert_connectivity(input_array, root_index):\n",
    "    try:\n",
    "        input_array = input_array.detach().cpu().numpy()\n",
    "    except:\n",
    "        input_array = input_array\n",
    "    \n",
    "    N = input_array.shape[0]\n",
    "    \n",
    "    # 创建一个N*2的输出数组\n",
    "    output_array = np.empty((N, 2), dtype=object)\n",
    "    \n",
    "    # 填写第一列\n",
    "    for i in range(N):\n",
    "        if i == root_index:\n",
    "            output_array[i, 0] = 'pelvis'\n",
    "        else:\n",
    "            output_array[i, 0] = SMPLX_JOINT_NAMES[i]\n",
    "    \n",
    "    # 填写第二列\n",
    "    for i in range(N):\n",
    "        if i == root_index:\n",
    "            output_array[i, 1] = 'None'\n",
    "        else:\n",
    "            output_array[i, 1] = output_array[input_array[i], 0]\n",
    "            \n",
    "    return output_array\n"
   ]
  },
  {
   "cell_type": "code",
   "execution_count": null,
   "id": "328dabeb-7159-4368-906c-7332f6598476",
   "metadata": {},
   "outputs": [],
   "source": []
  }
 ],
 "metadata": {
  "kernelspec": {
   "display_name": "Python 3 (ipykernel)",
   "language": "python",
   "name": "python3"
  },
  "language_info": {
   "codemirror_mode": {
    "name": "ipython",
    "version": 3
   },
   "file_extension": ".py",
   "mimetype": "text/x-python",
   "name": "python",
   "nbconvert_exporter": "python",
   "pygments_lexer": "ipython3",
   "version": "3.10.13"
  }
 },
 "nbformat": 4,
 "nbformat_minor": 5
}
